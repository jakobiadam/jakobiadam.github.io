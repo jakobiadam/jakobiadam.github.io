{
 "cells": [
  {
   "cell_type": "markdown",
   "metadata": {
    "slideshow": {
     "slide_type": "slide"
    }
   },
   "source": [
    "# Valamilyen projekt"
   ]
  },
  {
   "cell_type": "markdown",
   "metadata": {
    "slideshow": {
     "slide_type": "slide"
    }
   },
   "source": [
    "## Tartalom jegyzék"
   ]
  },
  {
   "cell_type": "markdown",
   "metadata": {
    "slideshow": {
     "slide_type": "fragment"
    }
   },
   "source": [
    "- Bevezetés\n",
    "- Előkészület\n",
    "- Számolás"
   ]
  },
  {
   "cell_type": "markdown",
   "metadata": {
    "slideshow": {
     "slide_type": "fragment"
    }
   },
   "source": [
    "- Eredmények\n",
    "- Diszkusszió\n",
    "- Köszönetnyilvánítás"
   ]
  },
  {
   "cell_type": "markdown",
   "metadata": {
    "slideshow": {
     "slide_type": "slide"
    }
   },
   "source": [
    "# Bevezetés"
   ]
  },
  {
   "cell_type": "code",
   "execution_count": 2,
   "metadata": {},
   "outputs": [],
   "source": [
    "from IPython.core.display import display,HTML"
   ]
  },
  {
   "cell_type": "code",
   "execution_count": null,
   "metadata": {},
   "outputs": [],
   "source": []
  },
  {
   "cell_type": "markdown",
   "metadata": {
    "slideshow": {
     "slide_type": "subslide"
    }
   },
   "source": [
    "<!DOCTYPE html>\n",
    "<html>\n",
    "\t<head>\n",
    "\t\t<title>Főoldal</title>\n",
    "\t\t<link rel=\"stylesheet\" type=\"text/css\" href=\"fooldal.css\">\n",
    "\t</head>\n",
    "\t\n",
    "<body>\n",
    "    <header>\n",
    "        <nav>\n",
    "            <h1>Az oldal tartalma:<h1>\n",
    "            <ul>\n",
    "                <li><a href=\"#\">Home</a></li>\n",
    "                <li><a href=\"#\">Blog</a></li>\n",
    "                <li><a href=\"#\">About</a></li>\n",
    "                <li><a href=\"#\">Contact</a></li>\n",
    "                <li><a href=\"#\">Links</a></li>\n",
    "            </ul>\n",
    "        </nav>\n",
    "    </header>\n",
    "    <h1>Üdvözöllek az oldalamon!<h1>\n",
    "\n",
    "<div class=\"row\">\n",
    "    <div class=\"col\">col1</div>\n",
    "    <div class=\"col\">col2</div>\n",
    "    <div class=\"col\">col3</div>\n",
    "    <div class=\"col\">col4</div>\n",
    "    <div class=\"col\">col5</div>\n",
    "</div>\n",
    "\n",
    "<footer>2020 Mysite</footer>\n",
    "\n",
    "</body>\n",
    "</html>"
   ]
  }
 ],
 "metadata": {
  "celltoolbar": "Slideshow",
  "kernelspec": {
   "display_name": "Python 3",
   "language": "python",
   "name": "python3"
  },
  "language_info": {
   "codemirror_mode": {
    "name": "ipython",
    "version": 3
   },
   "file_extension": ".py",
   "mimetype": "text/x-python",
   "name": "python",
   "nbconvert_exporter": "python",
   "pygments_lexer": "ipython3",
   "version": "3.7.4"
  }
 },
 "nbformat": 4,
 "nbformat_minor": 2
}
